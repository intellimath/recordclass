{
 "cells": [
  {
   "cell_type": "code",
   "execution_count": 1,
   "metadata": {
    "execution": {
     "iopub.execute_input": "2024-04-13T18:21:49.428407Z",
     "iopub.status.busy": "2024-04-13T18:21:49.427793Z",
     "iopub.status.idle": "2024-04-13T18:21:49.451742Z",
     "shell.execute_reply": "2024-04-13T18:21:49.450835Z",
     "shell.execute_reply.started": "2024-04-13T18:21:49.428359Z"
    }
   },
   "outputs": [
    {
     "name": "stdout",
     "output_type": "stream",
     "text": [
      "3.11.2 (main, Mar 13 2023, 12:18:29) [GCC 12.2.0]\n"
     ]
    }
   ],
   "source": [
    "from recordclass import dataobject\n",
    "from sys import version\n",
    "print(version)"
   ]
  },
  {
   "cell_type": "code",
   "execution_count": 2,
   "metadata": {
    "execution": {
     "iopub.execute_input": "2024-04-13T18:21:49.452799Z",
     "iopub.status.busy": "2024-04-13T18:21:49.452584Z",
     "iopub.status.idle": "2024-04-13T18:21:49.470682Z",
     "shell.execute_reply": "2024-04-13T18:21:49.467954Z",
     "shell.execute_reply.started": "2024-04-13T18:21:49.452776Z"
    }
   },
   "outputs": [],
   "source": [
    "class A(dataobject):\n",
    "    x:int\n",
    "    y:int\n",
    "\n",
    "    def __init__(self, *args, **kw):\n",
    "        pass"
   ]
  },
  {
   "cell_type": "code",
   "execution_count": 3,
   "metadata": {
    "execution": {
     "iopub.execute_input": "2024-04-13T18:21:49.472481Z",
     "iopub.status.busy": "2024-04-13T18:21:49.472178Z",
     "iopub.status.idle": "2024-04-13T18:21:49.483373Z",
     "shell.execute_reply": "2024-04-13T18:21:49.482273Z",
     "shell.execute_reply.started": "2024-04-13T18:21:49.472456Z"
    }
   },
   "outputs": [
    {
     "name": "stdout",
     "output_type": "stream",
     "text": [
      "A(x=None, y=None)\n"
     ]
    }
   ],
   "source": [
    "a=A(1,2)\n",
    "print(a)"
   ]
  },
  {
   "cell_type": "code",
   "execution_count": 4,
   "metadata": {
    "execution": {
     "iopub.execute_input": "2024-04-13T18:21:49.484864Z",
     "iopub.status.busy": "2024-04-13T18:21:49.484559Z",
     "iopub.status.idle": "2024-04-13T18:21:49.508812Z",
     "shell.execute_reply": "2024-04-13T18:21:49.507803Z",
     "shell.execute_reply.started": "2024-04-13T18:21:49.484835Z"
    }
   },
   "outputs": [],
   "source": [
    "for i in range(100):\n",
    "    a=A(1,2)"
   ]
  },
  {
   "cell_type": "code",
   "execution_count": 5,
   "metadata": {
    "execution": {
     "iopub.execute_input": "2024-04-13T18:21:49.510532Z",
     "iopub.status.busy": "2024-04-13T18:21:49.510214Z",
     "iopub.status.idle": "2024-04-13T18:21:49.540417Z",
     "shell.execute_reply": "2024-04-13T18:21:49.539513Z",
     "shell.execute_reply.started": "2024-04-13T18:21:49.510503Z"
    }
   },
   "outputs": [],
   "source": [
    "class P(dataobject):\n",
    "    x:int\n",
    "    y:int\n"
   ]
  },
  {
   "cell_type": "code",
   "execution_count": null,
   "metadata": {},
   "outputs": [],
   "source": []
  },
  {
   "cell_type": "code",
   "execution_count": null,
   "metadata": {},
   "outputs": [],
   "source": []
  }
 ],
 "metadata": {
  "kernelspec": {
   "display_name": "Python 3 (ipykernel)",
   "language": "python",
   "name": "python3"
  },
  "language_info": {
   "codemirror_mode": {
    "name": "ipython",
    "version": 3
   },
   "file_extension": ".py",
   "mimetype": "text/x-python",
   "name": "python",
   "nbconvert_exporter": "python",
   "pygments_lexer": "ipython3",
   "version": "3.11.2"
  }
 },
 "nbformat": 4,
 "nbformat_minor": 4
}
