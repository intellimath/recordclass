{
 "cells": [
  {
   "cell_type": "code",
   "execution_count": 1,
   "id": "fd7674ec-3b0c-434a-abc8-e2ac00b72ede",
   "metadata": {
    "execution": {
     "iopub.execute_input": "2023-10-31T08:41:53.570164Z",
     "iopub.status.busy": "2023-10-31T08:41:53.569727Z",
     "iopub.status.idle": "2023-10-31T08:41:53.593429Z",
     "shell.execute_reply": "2023-10-31T08:41:53.592523Z",
     "shell.execute_reply.started": "2023-10-31T08:41:53.570136Z"
    }
   },
   "outputs": [],
   "source": [
    "from recordclass import make_dataclass, dataobject, datatype"
   ]
  },
  {
   "cell_type": "code",
   "execution_count": 40,
   "id": "ac546e78-c441-46e3-8af9-ceee9ea67e48",
   "metadata": {
    "execution": {
     "iopub.execute_input": "2023-10-31T09:01:08.405773Z",
     "iopub.status.busy": "2023-10-31T09:01:08.404501Z",
     "iopub.status.idle": "2023-10-31T09:01:08.425188Z",
     "shell.execute_reply": "2023-10-31T09:01:08.423376Z",
     "shell.execute_reply.started": "2023-10-31T09:01:08.405651Z"
    }
   },
   "outputs": [],
   "source": [
    "def asrecord(readonly=False, immutable_type=True):\n",
    "    def innerfunc(func, **kw):\n",
    "        name = func.__name__\n",
    "        varnames = func.__code__.co_varnames\n",
    "        annotations = func.__annotations__\n",
    "        defaults = func.__defaults__\n",
    "        fields = []\n",
    "        for fn in varnames:\n",
    "            tp = annotations.get(fn, None)\n",
    "            if tp is None:\n",
    "                fields.append(fn)\n",
    "            else:\n",
    "                fields.append((fn,tp))\n",
    "                \n",
    "        return make_dataclass(name, fields, defaults, bases=(dataobject,)\n",
    "                              readonly=readonly, immutable_type=immutable_type, )\n",
    "    return innerfunc\n",
    "    "
   ]
  },
  {
   "cell_type": "code",
   "execution_count": 41,
   "id": "ee796280-9a34-4c67-b90d-fb7ea344cf9c",
   "metadata": {
    "execution": {
     "iopub.execute_input": "2023-10-31T09:01:08.879969Z",
     "iopub.status.busy": "2023-10-31T09:01:08.878656Z",
     "iopub.status.idle": "2023-10-31T09:01:08.888077Z",
     "shell.execute_reply": "2023-10-31T09:01:08.886706Z",
     "shell.execute_reply.started": "2023-10-31T09:01:08.879863Z"
    }
   },
   "outputs": [],
   "source": [
    "@asrecord()\n",
    "def Point(x:int, y:int, meta=None):\n",
    "    pass"
   ]
  },
  {
   "cell_type": "code",
   "execution_count": 42,
   "id": "ff470184-a7cb-4653-ab4b-875fef90819f",
   "metadata": {
    "execution": {
     "iopub.execute_input": "2023-10-31T09:01:09.443834Z",
     "iopub.status.busy": "2023-10-31T09:01:09.443009Z",
     "iopub.status.idle": "2023-10-31T09:01:09.455980Z",
     "shell.execute_reply": "2023-10-31T09:01:09.454616Z",
     "shell.execute_reply.started": "2023-10-31T09:01:09.443763Z"
    }
   },
   "outputs": [
    {
     "data": {
      "text/plain": [
       "'Point'"
      ]
     },
     "execution_count": 42,
     "metadata": {},
     "output_type": "execute_result"
    }
   ],
   "source": [
    "Point.__name__"
   ]
  },
  {
   "cell_type": "code",
   "execution_count": 43,
   "id": "f6ed2190-caa3-448b-8897-1bbe629e7d5a",
   "metadata": {
    "execution": {
     "iopub.execute_input": "2023-10-31T09:01:10.561521Z",
     "iopub.status.busy": "2023-10-31T09:01:10.560320Z",
     "iopub.status.idle": "2023-10-31T09:01:10.575351Z",
     "shell.execute_reply": "2023-10-31T09:01:10.572790Z",
     "shell.execute_reply.started": "2023-10-31T09:01:10.561411Z"
    }
   },
   "outputs": [
    {
     "name": "stdout",
     "output_type": "stream",
     "text": [
      "Point(x=1, y=2, meta=None)\n"
     ]
    }
   ],
   "source": [
    "p = Point(1,2)\n",
    "print(p)"
   ]
  },
  {
   "cell_type": "code",
   "execution_count": 44,
   "id": "a0fe63ca-2550-432a-a8ff-86c98ad8c29d",
   "metadata": {
    "execution": {
     "iopub.execute_input": "2023-10-31T09:01:11.461034Z",
     "iopub.status.busy": "2023-10-31T09:01:11.458068Z",
     "iopub.status.idle": "2023-10-31T09:01:11.476107Z",
     "shell.execute_reply": "2023-10-31T09:01:11.474542Z",
     "shell.execute_reply.started": "2023-10-31T09:01:11.460852Z"
    }
   },
   "outputs": [
    {
     "data": {
      "text/plain": [
       "mappingproxy({'__fields__': ('x', 'y', 'meta'),\n",
       "              '__annotations__': {'x': int, 'y': int},\n",
       "              '__defaults__': {'meta': None},\n",
       "              '__module__': '__main__',\n",
       "              '__default_vals__': (None, None, None),\n",
       "              '__match_args__': ('x', 'y', 'meta'),\n",
       "              '__doc__': 'Point(x:int, y:int, meta)\\n--\\nCreate class Point instance',\n",
       "              '__options__': {'fast_new': True,\n",
       "               'immutable_type': True,\n",
       "               'fields_dict': {'x': {'type': int},\n",
       "                'y': {'type': int},\n",
       "                'meta': {'default': None}}},\n",
       "              '__dict__': <attribute '__dict__' of 'Point' objects>,\n",
       "              '__weakref__': <attribute '__weakref__' of 'Point' objects>,\n",
       "              'x': <member 'x' of 'Point' objects>,\n",
       "              'y': <member 'y' of 'Point' objects>,\n",
       "              'meta': <member 'meta' of 'Point' objects>})"
      ]
     },
     "execution_count": 44,
     "metadata": {},
     "output_type": "execute_result"
    }
   ],
   "source": [
    "Point.__dict__"
   ]
  },
  {
   "cell_type": "code",
   "execution_count": null,
   "id": "cd815a27-50fb-411a-a9b9-7fa87f5d2640",
   "metadata": {},
   "outputs": [],
   "source": []
  }
 ],
 "metadata": {
  "kernelspec": {
   "display_name": "Python 3 (ipykernel)",
   "language": "python",
   "name": "python3"
  },
  "language_info": {
   "codemirror_mode": {
    "name": "ipython",
    "version": 3
   },
   "file_extension": ".py",
   "mimetype": "text/x-python",
   "name": "python",
   "nbconvert_exporter": "python",
   "pygments_lexer": "ipython3",
   "version": "3.11.9"
  }
 },
 "nbformat": 4,
 "nbformat_minor": 5
}
