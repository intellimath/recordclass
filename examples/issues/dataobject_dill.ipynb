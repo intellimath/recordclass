{
 "cells": [
  {
   "cell_type": "code",
   "execution_count": 1,
   "id": "4a02e133-f9aa-4ae6-9c16-63639d96b64d",
   "metadata": {
    "execution": {
     "iopub.execute_input": "2024-06-14T17:02:20.308790Z",
     "iopub.status.busy": "2024-06-14T17:02:20.308318Z",
     "iopub.status.idle": "2024-06-14T17:02:20.335806Z",
     "shell.execute_reply": "2024-06-14T17:02:20.334947Z",
     "shell.execute_reply.started": "2024-06-14T17:02:20.308749Z"
    }
   },
   "outputs": [],
   "source": [
    "from recordclass import dataobject, datatype\n",
    "import dill"
   ]
  },
  {
   "cell_type": "code",
   "execution_count": 7,
   "id": "755ae0a1-d51e-42bd-8581-3c9fb79cbf44",
   "metadata": {
    "execution": {
     "iopub.execute_input": "2024-06-14T14:56:03.255106Z",
     "iopub.status.busy": "2024-06-14T14:56:03.253891Z",
     "iopub.status.idle": "2024-06-14T14:56:03.268221Z",
     "shell.execute_reply": "2024-06-14T14:56:03.267125Z",
     "shell.execute_reply.started": "2024-06-14T14:56:03.254997Z"
    }
   },
   "outputs": [
    {
     "name": "stdout",
     "output_type": "stream",
     "text": [
      "True\n"
     ]
    },
    {
     "name": "stderr",
     "output_type": "stream",
     "text": [
      "/home/intellimath/.local/lib/python3.11/site-packages/dill/_dill.py:414: PicklingWarning: Cannot locate reference to <class '__main__.Newdataclass'>.\n",
      "  StockPickler.save(self, obj, save_persistent_id)\n"
     ]
    }
   ],
   "source": [
    "class Newdataclass(dataobject):\n",
    "    a: float = 1.0\n",
    "\n",
    "inputobj = Newdataclass()\n",
    "\n",
    "does_it_pickle = dill.pickles(inputobj, byref=True)\n",
    "\n",
    "print(does_it_pickle)"
   ]
  },
  {
   "cell_type": "code",
   "execution_count": null,
   "id": "d80ae08f-4f1f-4f2d-a38a-b2f367aea8b4",
   "metadata": {},
   "outputs": [],
   "source": []
  }
 ],
 "metadata": {
  "kernelspec": {
   "display_name": "Python 3 (ipykernel)",
   "language": "python",
   "name": "python3"
  },
  "language_info": {
   "codemirror_mode": {
    "name": "ipython",
    "version": 3
   },
   "file_extension": ".py",
   "mimetype": "text/x-python",
   "name": "python",
   "nbconvert_exporter": "python",
   "pygments_lexer": "ipython3",
   "version": "3.11.2"
  }
 },
 "nbformat": 4,
 "nbformat_minor": 5
}
