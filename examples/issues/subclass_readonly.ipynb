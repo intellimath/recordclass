{
 "cells": [
  {
   "cell_type": "code",
   "execution_count": 1,
   "id": "3b1b08a3-6fed-41f2-9e5a-f603b83e7e2e",
   "metadata": {},
   "outputs": [],
   "source": [
    "from recordclass import dataobject, Field"
   ]
  },
  {
   "cell_type": "code",
   "execution_count": 2,
   "id": "7926025d-f4d5-4183-9e95-6ee8971ba8e4",
   "metadata": {},
   "outputs": [],
   "source": [
    "class ImmutableParameter(dataobject, readonly=True):\n",
    "    b: float = 1.0\n",
    "    def example_method(self):\n",
    "        return 20\n",
    "\n",
    "class ImmutableSubclass(ImmutableParameter):\n",
    "    a: float = Field(readonly=True, default=2.0)"
   ]
  },
  {
   "cell_type": "code",
   "execution_count": 3,
   "id": "5fb0d22f-985d-41ff-a45d-46fc454907c6",
   "metadata": {},
   "outputs": [
    {
     "name": "stdout",
     "output_type": "stream",
     "text": [
      "ImmutableSubclass(b=1.0, a=2.0)\n"
     ]
    },
    {
     "ename": "AttributeError",
     "evalue": "readonly attribute",
     "output_type": "error",
     "traceback": [
      "\u001b[0;31m---------------------------------------------------------------------------\u001b[0m",
      "\u001b[0;31mAttributeError\u001b[0m                            Traceback (most recent call last)",
      "Cell \u001b[0;32mIn[3], line 3\u001b[0m\n\u001b[1;32m      1\u001b[0m ims \u001b[38;5;241m=\u001b[39m ImmutableSubclass()\n\u001b[1;32m      2\u001b[0m \u001b[38;5;28mprint\u001b[39m(ims)\n\u001b[0;32m----> 3\u001b[0m \u001b[43mims\u001b[49m\u001b[38;5;241;43m.\u001b[39;49m\u001b[43ma\u001b[49m \u001b[38;5;241m=\u001b[39m \u001b[38;5;241m3.0\u001b[39m\n",
      "\u001b[0;31mAttributeError\u001b[0m: readonly attribute"
     ]
    }
   ],
   "source": [
    "ims = ImmutableSubclass()\n",
    "print(ims)\n",
    "ims.a = 3.0"
   ]
  },
  {
   "cell_type": "code",
   "execution_count": 6,
   "id": "8cb5194f-c366-41b2-ba16-600f456031c0",
   "metadata": {},
   "outputs": [
    {
     "name": "stdout",
     "output_type": "stream",
     "text": [
      "ImmutableParameter(b=1.0)\n"
     ]
    },
    {
     "ename": "AttributeError",
     "evalue": "readonly attribute",
     "output_type": "error",
     "traceback": [
      "\u001b[0;31m---------------------------------------------------------------------------\u001b[0m",
      "\u001b[0;31mAttributeError\u001b[0m                            Traceback (most recent call last)",
      "Cell \u001b[0;32mIn[6], line 3\u001b[0m\n\u001b[1;32m      1\u001b[0m imp \u001b[38;5;241m=\u001b[39m ImmutableParameter()\n\u001b[1;32m      2\u001b[0m \u001b[38;5;28mprint\u001b[39m(imp)\n\u001b[0;32m----> 3\u001b[0m \u001b[43mimp\u001b[49m\u001b[38;5;241;43m.\u001b[39;49m\u001b[43mb\u001b[49m \u001b[38;5;241m=\u001b[39m \u001b[38;5;241m2\u001b[39m\n",
      "\u001b[0;31mAttributeError\u001b[0m: readonly attribute"
     ]
    }
   ],
   "source": [
    "imp = ImmutableParameter()\n",
    "print(imp)\n",
    "imp.b = 2"
   ]
  },
  {
   "cell_type": "code",
   "execution_count": null,
   "id": "bf4cd15e-022d-4105-adac-9a978ba0f218",
   "metadata": {},
   "outputs": [],
   "source": []
  }
 ],
 "metadata": {
  "kernelspec": {
   "display_name": "Python 3 (ipykernel)",
   "language": "python",
   "name": "python3"
  },
  "language_info": {
   "codemirror_mode": {
    "name": "ipython",
    "version": 3
   },
   "file_extension": ".py",
   "mimetype": "text/x-python",
   "name": "python",
   "nbconvert_exporter": "python",
   "pygments_lexer": "ipython3",
   "version": "3.13.3"
  }
 },
 "nbformat": 4,
 "nbformat_minor": 5
}
