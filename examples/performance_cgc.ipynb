{
 "cells": [
  {
   "cell_type": "code",
   "execution_count": 1,
   "metadata": {
    "execution": {
     "iopub.execute_input": "2025-03-08T15:17:02.060005Z",
     "iopub.status.busy": "2025-03-08T15:17:02.059619Z",
     "iopub.status.idle": "2025-03-08T15:17:02.071689Z",
     "shell.execute_reply": "2025-03-08T15:17:02.069778Z",
     "shell.execute_reply.started": "2025-03-08T15:17:02.059965Z"
    }
   },
   "outputs": [],
   "source": [
    "from recordclass import dataobject, __version__\n",
    "from math import sqrt\n",
    "import gc\n",
    "import sys"
   ]
  },
  {
   "cell_type": "code",
   "execution_count": 2,
   "metadata": {
    "execution": {
     "iopub.execute_input": "2025-03-08T15:17:02.585446Z",
     "iopub.status.busy": "2025-03-08T15:17:02.584801Z",
     "iopub.status.idle": "2025-03-08T15:17:02.595395Z",
     "shell.execute_reply": "2025-03-08T15:17:02.593725Z",
     "shell.execute_reply.started": "2025-03-08T15:17:02.585394Z"
    }
   },
   "outputs": [
    {
     "name": "stdout",
     "output_type": "stream",
     "text": [
      "3.13.2 (main, Feb  5 2025, 01:23:35) [GCC 14.2.0]\n",
      "0.22.1\n"
     ]
    }
   ],
   "source": [
    "print(sys.version)\n",
    "print(__version__)"
   ]
  },
  {
   "cell_type": "code",
   "execution_count": 4,
   "metadata": {
    "execution": {
     "iopub.execute_input": "2025-03-08T15:17:58.746637Z",
     "iopub.status.busy": "2025-03-08T15:17:58.745860Z",
     "iopub.status.idle": "2025-03-08T15:17:58.752216Z",
     "shell.execute_reply": "2025-03-08T15:17:58.751465Z",
     "shell.execute_reply.started": "2025-03-08T15:17:58.746583Z"
    }
   },
   "outputs": [],
   "source": [
    "class Point(dataobject):\n",
    "    x:int\n",
    "    y:int\n",
    "\n",
    "class Point3(Point):\n",
    "    z:int\n",
    "\n",
    "class Vector(Point):\n",
    "    #\n",
    "    def sizeof(self):\n",
    "        return self.__sizeof__()\n",
    "\n",
    "class Vector3(Point3):\n",
    "    #\n",
    "    def sizeof(self):\n",
    "        return self.__sizeof__()\n"
   ]
  },
  {
   "cell_type": "code",
   "execution_count": 13,
   "metadata": {
    "execution": {
     "iopub.execute_input": "2025-03-08T14:50:06.334716Z",
     "iopub.status.busy": "2025-03-08T14:50:06.334323Z",
     "iopub.status.idle": "2025-03-08T14:50:06.341791Z",
     "shell.execute_reply": "2025-03-08T14:50:06.341004Z",
     "shell.execute_reply.started": "2025-03-08T14:50:06.334690Z"
    }
   },
   "outputs": [],
   "source": [
    "def test_point(N):\n",
    "    L = []\n",
    "    for i in range(N):\n",
    "        L.append(Point(1,2))\n",
    "    return L\n",
    "\n",
    "def test_point3(N):\n",
    "    L = []\n",
    "    for i in range(N):\n",
    "        L.append(Point3(1,2,3))\n",
    "    return L\n",
    "\n",
    "def test_vector(N):\n",
    "    L = []\n",
    "    for i in range(N):\n",
    "        L.append(Point(1,2))\n",
    "    return L\n",
    "\n",
    "def test_vector3(N):\n",
    "    L = []\n",
    "    for i in range(N):\n",
    "        L.append(Vector3(1,2,3))\n",
    "    return L \n",
    "\n",
    "def test_vector_sizeof(N):\n",
    "    v = Vector(1,2)\n",
    "    L = []\n",
    "    for i in range(N):\n",
    "        L.append(v.sizeof())\n",
    "    return L\n",
    "\n",
    "def test_vector3_sizeof(N):\n",
    "    v = Vector3(1,2,3)\n",
    "    L = []\n",
    "    for i in range(N):\n",
    "        L.append(v.sizeof())\n",
    "    return L\n"
   ]
  },
  {
   "cell_type": "code",
   "execution_count": 5,
   "metadata": {
    "execution": {
     "iopub.execute_input": "2025-03-08T14:48:36.450996Z",
     "iopub.status.busy": "2025-03-08T14:48:36.450622Z",
     "iopub.status.idle": "2025-03-08T14:48:36.456686Z",
     "shell.execute_reply": "2025-03-08T14:48:36.455963Z",
     "shell.execute_reply.started": "2025-03-08T14:48:36.450959Z"
    }
   },
   "outputs": [
    {
     "name": "stdout",
     "output_type": "stream",
     "text": [
      "Sizeof:\n",
      "Point: 32\n",
      "Vector: 32\n",
      "Point3: 40\n",
      "Vector3: 40\n"
     ]
    }
   ],
   "source": [
    "print(\"Sizeof:\")\n",
    "print(\"Point:\", sys.getsizeof(Point(1,2)))\n",
    "print(\"Vector:\", sys.getsizeof(Vector(1,2)))\n",
    "print(\"Point3:\", sys.getsizeof(Point3(1,2,3)))\n",
    "print(\"Vector3:\", sys.getsizeof(Vector3(1,2,3)))"
   ]
  },
  {
   "cell_type": "code",
   "execution_count": 6,
   "metadata": {
    "execution": {
     "iopub.execute_input": "2025-03-08T14:48:36.457610Z",
     "iopub.status.busy": "2025-03-08T14:48:36.457388Z",
     "iopub.status.idle": "2025-03-08T14:48:41.984608Z",
     "shell.execute_reply": "2025-03-08T14:48:41.983988Z",
     "shell.execute_reply.started": "2025-03-08T14:48:36.457588Z"
    }
   },
   "outputs": [
    {
     "name": "stdout",
     "output_type": "stream",
     "text": [
      "64 μs ± 1.8 μs per loop (mean ± std. dev. of 7 runs, 10,000 loops each)\n"
     ]
    }
   ],
   "source": [
    "gc.collect()\n",
    "%timeit test_point(1000)"
   ]
  },
  {
   "cell_type": "code",
   "execution_count": 7,
   "metadata": {
    "execution": {
     "iopub.execute_input": "2025-03-08T14:48:41.986468Z",
     "iopub.status.busy": "2025-03-08T14:48:41.986232Z",
     "iopub.status.idle": "2025-03-08T14:48:48.163711Z",
     "shell.execute_reply": "2025-03-08T14:48:48.163038Z",
     "shell.execute_reply.started": "2025-03-08T14:48:41.986451Z"
    }
   },
   "outputs": [
    {
     "name": "stdout",
     "output_type": "stream",
     "text": [
      "72.4 μs ± 10.4 μs per loop (mean ± std. dev. of 7 runs, 10,000 loops each)\n"
     ]
    }
   ],
   "source": [
    "gc.collect()\n",
    "%timeit test_point3(1000)"
   ]
  },
  {
   "cell_type": "code",
   "execution_count": 8,
   "metadata": {
    "execution": {
     "iopub.execute_input": "2025-03-08T14:48:48.164543Z",
     "iopub.status.busy": "2025-03-08T14:48:48.164353Z",
     "iopub.status.idle": "2025-03-08T14:48:53.859299Z",
     "shell.execute_reply": "2025-03-08T14:48:53.858774Z",
     "shell.execute_reply.started": "2025-03-08T14:48:48.164523Z"
    }
   },
   "outputs": [
    {
     "name": "stdout",
     "output_type": "stream",
     "text": [
      "64 μs ± 254 ns per loop (mean ± std. dev. of 7 runs, 10,000 loops each)\n"
     ]
    }
   ],
   "source": [
    "gc.collect()\n",
    "%timeit test_vector(1000)"
   ]
  },
  {
   "cell_type": "code",
   "execution_count": 9,
   "metadata": {
    "execution": {
     "iopub.execute_input": "2025-03-08T14:48:53.860318Z",
     "iopub.status.busy": "2025-03-08T14:48:53.860056Z",
     "iopub.status.idle": "2025-03-08T14:48:59.911602Z",
     "shell.execute_reply": "2025-03-08T14:48:59.911017Z",
     "shell.execute_reply.started": "2025-03-08T14:48:53.860293Z"
    }
   },
   "outputs": [
    {
     "name": "stdout",
     "output_type": "stream",
     "text": [
      "69 μs ± 1.66 μs per loop (mean ± std. dev. of 7 runs, 10,000 loops each)\n"
     ]
    }
   ],
   "source": [
    "gc.collect()\n",
    "%timeit test_vector3(1000)"
   ]
  },
  {
   "cell_type": "code",
   "execution_count": 10,
   "metadata": {
    "execution": {
     "iopub.execute_input": "2025-03-08T14:48:59.912474Z",
     "iopub.status.busy": "2025-03-08T14:48:59.912246Z",
     "iopub.status.idle": "2025-03-08T14:49:06.313006Z",
     "shell.execute_reply": "2025-03-08T14:49:06.312295Z",
     "shell.execute_reply.started": "2025-03-08T14:48:59.912455Z"
    }
   },
   "outputs": [
    {
     "name": "stdout",
     "output_type": "stream",
     "text": [
      "73.7 μs ± 458 ns per loop (mean ± std. dev. of 7 runs, 10,000 loops each)\n"
     ]
    }
   ],
   "source": [
    "gc.collect()\n",
    "%timeit test_vector_sizeof(1000)"
   ]
  },
  {
   "cell_type": "code",
   "execution_count": 14,
   "metadata": {
    "execution": {
     "iopub.execute_input": "2025-03-08T14:50:09.876412Z",
     "iopub.status.busy": "2025-03-08T14:50:09.875771Z",
     "iopub.status.idle": "2025-03-08T14:50:16.188116Z",
     "shell.execute_reply": "2025-03-08T14:50:16.187480Z",
     "shell.execute_reply.started": "2025-03-08T14:50:09.876370Z"
    }
   },
   "outputs": [
    {
     "name": "stdout",
     "output_type": "stream",
     "text": [
      "75.8 μs ± 1.4 μs per loop (mean ± std. dev. of 7 runs, 10,000 loops each)\n"
     ]
    }
   ],
   "source": [
    "gc.collect()\n",
    "%timeit test_vector3_sizeof(1000)"
   ]
  },
  {
   "cell_type": "code",
   "execution_count": null,
   "metadata": {},
   "outputs": [],
   "source": []
  }
 ],
 "metadata": {
  "kernelspec": {
   "display_name": "Python 3 (ipykernel)",
   "language": "python",
   "name": "python3"
  },
  "language_info": {
   "codemirror_mode": {
    "name": "ipython",
    "version": 3
   },
   "file_extension": ".py",
   "mimetype": "text/x-python",
   "name": "python",
   "nbconvert_exporter": "python",
   "pygments_lexer": "ipython3",
   "version": "3.13.2"
  }
 },
 "nbformat": 4,
 "nbformat_minor": 4
}
